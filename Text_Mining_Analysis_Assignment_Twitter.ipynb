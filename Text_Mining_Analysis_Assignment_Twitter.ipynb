{
 "cells": [
  {
   "cell_type": "markdown",
   "metadata": {},
   "source": [
    "The following is an assignment from a text mining class. Sources used is tweets from Twitter and charting data from billboard.com. Summary and finding are provided at bottom of notebook."
   ]
  },
  {
   "cell_type": "markdown",
   "metadata": {},
   "source": [
    "### Import packages"
   ]
  },
  {
   "cell_type": "code",
   "execution_count": 2,
   "metadata": {},
   "outputs": [],
   "source": [
    "# import modules\n",
    "import pandas as pd \n",
    "from bs4 import BeautifulSoup\n",
    "import requests\n",
    "pd.set_option('display.max_colwidth', 150) "
   ]
  },
  {
   "cell_type": "markdown",
   "metadata": {},
   "source": [
    "### Read in text from Source 1: Website"
   ]
  },
  {
   "cell_type": "code",
   "execution_count": 3,
   "metadata": {},
   "outputs": [],
   "source": [
    "# Getting popular music songs and artists storing text in object\n",
    "page = requests.get('https://www.billboard.com/charts/billboard-200')\n",
    " \n",
    "soup = BeautifulSoup(page.text, \"lxml\")"
   ]
  },
  {
   "cell_type": "code",
   "execution_count": 4,
   "metadata": {},
   "outputs": [],
   "source": [
    "#print(type(soup))\n",
    "#print(soup)"
   ]
  },
  {
   "cell_type": "code",
   "execution_count": 5,
   "metadata": {},
   "outputs": [],
   "source": [
    "# Storing the name of the rank, song, and artist and company value in 3 objects\n",
    "\n",
    "rank = soup.find_all(\"span\",{\"class\":\"chart-element__rank__number\"} )\n",
    "songinfo = soup.find_all(\"span\",{\"class\":\"chart-element__information__song\"} )\n",
    "artistinfo = soup.find_all(\"span\",{\"class\":\"chart-element__information__artist\"} )\n",
    "\n",
    "#print(rank)\n",
    "#print(song)\n",
    "#print(artist)\n",
    " "
   ]
  },
  {
   "cell_type": "markdown",
   "metadata": {},
   "source": [
    "### For each source create a data frame containing at least one column of text, two descriptive fields (i.e. source, date, likes, etc), and one category/classification (label)"
   ]
  },
  {
   "cell_type": "code",
   "execution_count": 6,
   "metadata": {},
   "outputs": [],
   "source": [
    "import time\n",
    "\n",
    "rankinfo = {}\n",
    "\n",
    "#Tag each with metadata about which age it came from and when we pulled it\n",
    "#This also enforces the order in which the data elements are stored\n",
    "for info in rank:\n",
    "    rankinfo.setdefault(info.get_text(strip=True), [])\n",
    "    rankinfo[info.get_text(strip=True)].append(soup.head.title)\n",
    "    rankinfo[info.get_text(strip=True)].append(time.strftime(\"%m/%d/%Y\"))\n",
    "    rankinfo[info.get_text(strip=True)].append(\"Music\")\n",
    "   "
   ]
  },
  {
   "cell_type": "code",
   "execution_count": 7,
   "metadata": {},
   "outputs": [],
   "source": [
    "# print(rankinfo)"
   ]
  },
  {
   "cell_type": "code",
   "execution_count": 8,
   "metadata": {},
   "outputs": [],
   "source": [
    "#Storing song info in dictionary\n",
    "\n",
    "song = {}\n",
    "\n",
    "for s in songinfo:\n",
    "    song.setdefault(s.get_text(strip=True), []) \n",
    "    \n",
    "# print(song)"
   ]
  },
  {
   "cell_type": "code",
   "execution_count": 10,
   "metadata": {},
   "outputs": [],
   "source": [
    "#Storing artist info in dictionary\n",
    "\n",
    "artist = {}\n",
    "\n",
    "for a in artistinfo:\n",
    "    artist.setdefault(a.get_text(strip=True), []) \n",
    "    \n",
    "#print(artist)"
   ]
  },
  {
   "cell_type": "code",
   "execution_count": 29,
   "metadata": {},
   "outputs": [],
   "source": [
    "# Store the text in three dataframes and combine them into one table\n",
    "\n",
    "infodf = pd.DataFrame.from_dict(rankinfo,orient=\"index\") \n",
    "infodf.reset_index(level=[0], inplace=True)\n",
    "\n",
    "infodf1 = pd.DataFrame.from_dict(song,orient=\"index\") \n",
    "infodf1.reset_index(level=[0], inplace=True) \n",
    "\n",
    "infodf2 = pd.DataFrame.from_dict(artist,orient=\"index\") \n",
    "infodf2.reset_index(level=[0], inplace=True) \n",
    "\n",
    "infodf.columns = ['Ranking', 'Source', 'Date', 'Category']\n",
    "infodf1.columns = ['Song']\n",
    "infodf2.columns = ['Artist']\n",
    "\n",
    "result = pd.concat([infodf, infodf1, infodf2], axis=1)\n"
   ]
  },
  {
   "cell_type": "markdown",
   "metadata": {},
   "source": [
    "### Print the Top 5 rows of each data frame"
   ]
  },
  {
   "cell_type": "code",
   "execution_count": 30,
   "metadata": {},
   "outputs": [
    {
     "data": {
      "text/html": [
       "<div>\n",
       "<style scoped>\n",
       "    .dataframe tbody tr th:only-of-type {\n",
       "        vertical-align: middle;\n",
       "    }\n",
       "\n",
       "    .dataframe tbody tr th {\n",
       "        vertical-align: top;\n",
       "    }\n",
       "\n",
       "    .dataframe thead th {\n",
       "        text-align: right;\n",
       "    }\n",
       "</style>\n",
       "<table border=\"1\" class=\"dataframe\">\n",
       "  <thead>\n",
       "    <tr style=\"text-align: right;\">\n",
       "      <th></th>\n",
       "      <th>Ranking</th>\n",
       "      <th>Source</th>\n",
       "      <th>Date</th>\n",
       "      <th>Category</th>\n",
       "      <th>Song</th>\n",
       "      <th>Artist</th>\n",
       "    </tr>\n",
       "  </thead>\n",
       "  <tbody>\n",
       "    <tr>\n",
       "      <th>0</th>\n",
       "      <td>1</td>\n",
       "      <td>[Billboard 200 Chart | Billboard]</td>\n",
       "      <td>09/05/2021</td>\n",
       "      <td>Music</td>\n",
       "      <td>Sour</td>\n",
       "      <td>Olivia Rodrigo</td>\n",
       "    </tr>\n",
       "    <tr>\n",
       "      <th>1</th>\n",
       "      <td>2</td>\n",
       "      <td>[Billboard 200 Chart | Billboard]</td>\n",
       "      <td>09/05/2021</td>\n",
       "      <td>Music</td>\n",
       "      <td>Trip At Knight</td>\n",
       "      <td>Trippie Redd</td>\n",
       "    </tr>\n",
       "    <tr>\n",
       "      <th>2</th>\n",
       "      <td>3</td>\n",
       "      <td>[Billboard 200 Chart | Billboard]</td>\n",
       "      <td>09/05/2021</td>\n",
       "      <td>Music</td>\n",
       "      <td>SoulFly</td>\n",
       "      <td>Rod Wave</td>\n",
       "    </tr>\n",
       "    <tr>\n",
       "      <th>3</th>\n",
       "      <td>4</td>\n",
       "      <td>[Billboard 200 Chart | Billboard]</td>\n",
       "      <td>09/05/2021</td>\n",
       "      <td>Music</td>\n",
       "      <td>Planet Her</td>\n",
       "      <td>Doja Cat</td>\n",
       "    </tr>\n",
       "    <tr>\n",
       "      <th>4</th>\n",
       "      <td>5</td>\n",
       "      <td>[Billboard 200 Chart | Billboard]</td>\n",
       "      <td>09/05/2021</td>\n",
       "      <td>Music</td>\n",
       "      <td>Solar Power</td>\n",
       "      <td>Lorde</td>\n",
       "    </tr>\n",
       "  </tbody>\n",
       "</table>\n",
       "</div>"
      ],
      "text/plain": [
       "  Ranking                             Source        Date Category  \\\n",
       "0       1  [Billboard 200 Chart | Billboard]  09/05/2021    Music   \n",
       "1       2  [Billboard 200 Chart | Billboard]  09/05/2021    Music   \n",
       "2       3  [Billboard 200 Chart | Billboard]  09/05/2021    Music   \n",
       "3       4  [Billboard 200 Chart | Billboard]  09/05/2021    Music   \n",
       "4       5  [Billboard 200 Chart | Billboard]  09/05/2021    Music   \n",
       "\n",
       "             Song          Artist  \n",
       "0            Sour  Olivia Rodrigo  \n",
       "1  Trip At Knight    Trippie Redd  \n",
       "2         SoulFly        Rod Wave  \n",
       "3      Planet Her        Doja Cat  \n",
       "4     Solar Power           Lorde  "
      ]
     },
     "execution_count": 30,
     "metadata": {},
     "output_type": "execute_result"
    }
   ],
   "source": [
    "result[0:5]"
   ]
  },
  {
   "cell_type": "markdown",
   "metadata": {},
   "source": [
    "### Read in text from source 2: Twitter"
   ]
  },
  {
   "cell_type": "code",
   "execution_count": 31,
   "metadata": {},
   "outputs": [],
   "source": [
    "import tweepy\n",
    "from tweepy import OAuthHandler\n",
    "\n",
    "#Keys for Twitter\n",
    "consumer_key =  'mm5L64OCN8CUqdOaibh0PKrHu'\n",
    "consumer_secret = 'b8QEqj5Lf9auJWEEeEyRf0YIOpqNI73svgTANn0HlzpRm4XUWO'\n",
    "access_token = '371646061-FZfHfOJQdarWBSMgEZihymDqHubkF1JlCd7H0j3g'\n",
    "access_secret = '4LW56xEIFI5XF6ODqBoL4MWEHXdee4l0sXHK3XPIdpTk3'\n",
    "\n",
    "auth = OAuthHandler(consumer_key, consumer_secret)\n",
    "auth.set_access_token(access_token, access_secret)\n",
    " \n",
    "\n",
    "api = tweepy.API(auth)"
   ]
  },
  {
   "cell_type": "code",
   "execution_count": 33,
   "metadata": {},
   "outputs": [],
   "source": [
    "# Converts a given list of tweets into a Pandas DataFrame.\n",
    "# Code taken from class\n",
    "\n",
    "\n",
    "def toDataFrame(tweets):\n",
    "\n",
    "    DataSet = pd.DataFrame()\n",
    "\n",
    "    #DataSet['tweetID'] = [tweet.id for tweet in tweets]\n",
    "    DataSet['tweetText'] = [tweet.text for tweet in tweets]\n",
    "    DataSet['tweetRetweetCt'] = [tweet.retweet_count for tweet in tweets]\n",
    "    DataSet['tweetFavoriteCt'] = [tweet.favorite_count for tweet in tweets]\n",
    "    #DataSet['tweetSource'] = [tweet.source for tweet in tweets]\n",
    "    DataSet['tweetCreated'] = [tweet.created_at for tweet in tweets]\n",
    "    #DataSet['userID'] = [tweet.user.id for tweet in tweets]\n",
    "    #DataSet['userScreen'] = [tweet.user.screen_name for tweet in tweets]\n",
    "    DataSet['userName'] = [tweet.user.name for tweet in tweets]\n",
    "    #DataSet['userCreateDt'] = [tweet.user.created_at for tweet in tweets]\n",
    "    DataSet['userDesc'] = [tweet.user.description for tweet in tweets]\n",
    "    DataSet['userFollowerCt'] = [tweet.user.followers_count for tweet in tweets]\n",
    "    #DataSet['userFriendsCt'] = [tweet.user.friends_count for tweet in tweets]\n",
    "    DataSet['userLocation'] = [tweet.user.location for tweet in tweets]\n",
    "    #DataSet['userTimezone'] = [tweet.user.time_zone for tweet in tweets]\n",
    "\n",
    "    return DataSet"
   ]
  },
  {
   "cell_type": "code",
   "execution_count": 34,
   "metadata": {},
   "outputs": [],
   "source": [
    "# Create a list of tweets\n",
    "topicResults = []\n",
    "\n",
    "#Get the first 100 tweets that mention \"@Olivia_Rodrigo\" and put them in the topicResults list\n",
    "#Using Olivia Rodrigo since she currenlty has the number 1 ranking song at the moment\n",
    "for tweet in tweepy.Cursor(api.search, q='@Olivia_Rodrigo').items(100):\n",
    "    topicResults.append(tweet)"
   ]
  },
  {
   "cell_type": "markdown",
   "metadata": {},
   "source": [
    "### For each source create a data frame containing at least one column of text, two descriptive fields (i.e. source, date, likes, etc), and one category/classification (label)¶"
   ]
  },
  {
   "cell_type": "code",
   "execution_count": 35,
   "metadata": {},
   "outputs": [],
   "source": [
    "#Pass the topicResults list to create a DataFrame\n",
    "tweet_df = toDataFrame(topicResults)\n",
    "\n",
    "#Adding an artist column so we know who we are searching about. in this case Olivia Rodrigo\n",
    "tweet_df['Artist'] = 'Olivia Rodrigo' "
   ]
  },
  {
   "cell_type": "code",
   "execution_count": 36,
   "metadata": {},
   "outputs": [],
   "source": [
    "#Renaming columns\n",
    "tweet_df.columns = ['Text', 'Retweets', 'Favorites', 'Created Date', 'Username', 'User Description', 'Number of Followers', 'User Location', 'Artist']\n"
   ]
  },
  {
   "cell_type": "markdown",
   "metadata": {},
   "source": [
    "### Print the Top 5 rows of each data frame"
   ]
  },
  {
   "cell_type": "code",
   "execution_count": 41,
   "metadata": {},
   "outputs": [
    {
     "data": {
      "text/html": [
       "<div>\n",
       "<style scoped>\n",
       "    .dataframe tbody tr th:only-of-type {\n",
       "        vertical-align: middle;\n",
       "    }\n",
       "\n",
       "    .dataframe tbody tr th {\n",
       "        vertical-align: top;\n",
       "    }\n",
       "\n",
       "    .dataframe thead th {\n",
       "        text-align: right;\n",
       "    }\n",
       "</style>\n",
       "<table border=\"1\" class=\"dataframe\">\n",
       "  <thead>\n",
       "    <tr style=\"text-align: right;\">\n",
       "      <th></th>\n",
       "      <th>Text</th>\n",
       "      <th>Retweets</th>\n",
       "      <th>Favorites</th>\n",
       "      <th>Created Date</th>\n",
       "      <th>Username</th>\n",
       "      <th>User Description</th>\n",
       "      <th>Number of Followers</th>\n",
       "      <th>User Location</th>\n",
       "      <th>Artist</th>\n",
       "    </tr>\n",
       "  </thead>\n",
       "  <tbody>\n",
       "    <tr>\n",
       "      <th>0</th>\n",
       "      <td>RT @chartdata: Biggest US album debuts of 2021:\\n#1 DONDA @kanyewest 309K\\n#2 SOUR @Olivia_Rodrigo 295K\\n#3 Fearless (Taylor's Version) @taylo…</td>\n",
       "      <td>172</td>\n",
       "      <td>0</td>\n",
       "      <td>2021-09-06 00:50:22</td>\n",
       "      <td>Gordy</td>\n",
       "      <td></td>\n",
       "      <td>32</td>\n",
       "      <td>Fort Worth, TX</td>\n",
       "      <td>Olivia Rodrigo</td>\n",
       "    </tr>\n",
       "    <tr>\n",
       "      <th>1</th>\n",
       "      <td>RT @chartwomen: Most streamed female artists on Spotify in 2021 so far: \\n\\n#1 @TaylorSwift13 5.4B\\n#2 @ArianaGrande 4.5B\\n#3 @Olivia_Rodrigo 4…</td>\n",
       "      <td>139</td>\n",
       "      <td>0</td>\n",
       "      <td>2021-09-06 00:49:54</td>\n",
       "      <td>Constança🧣</td>\n",
       "      <td>don't blame me and wildest dreams stan🖤🤍\\n                                                                fan account || 15 || Portugal🇵🇹 ||\\ntn×1</td>\n",
       "      <td>1832</td>\n",
       "      <td>Lisboa, Portugal</td>\n",
       "      <td>Olivia Rodrigo</td>\n",
       "    </tr>\n",
       "    <tr>\n",
       "      <th>2</th>\n",
       "      <td>@chartdata @kanyewest @Olivia_Rodrigo @taylorswift13 @JColeNC @MorganWallen @billieeilish Hw abt Pure Album Sales</td>\n",
       "      <td>0</td>\n",
       "      <td>0</td>\n",
       "      <td>2021-09-06 00:49:06</td>\n",
       "      <td>gbzgt</td>\n",
       "      <td>Filipino</td>\n",
       "      <td>213</td>\n",
       "      <td></td>\n",
       "      <td>Olivia Rodrigo</td>\n",
       "    </tr>\n",
       "    <tr>\n",
       "      <th>3</th>\n",
       "      <td>RT @PopCrave: ‘SOUR’ by @Olivia_Rodrigo is #3 on this week’s Billboard 200 after moving a further 74,000 units.\\n\\nIt previously spent five w…</td>\n",
       "      <td>41</td>\n",
       "      <td>0</td>\n",
       "      <td>2021-09-06 00:48:40</td>\n",
       "      <td>jen signed up for this</td>\n",
       "      <td>safe space dms always open🫂bisexual🐝💓21 yo swedish wicca girl,engaged💍aries♈️ BLM &amp; LBTQ+ LIFE’S MATTER👊🏽👊🏾👊🏿🏳️‍🌈🏳️‍⚧️tmylm tour june 2nd 2018🧸</td>\n",
       "      <td>2092</td>\n",
       "      <td>She/they</td>\n",
       "      <td>Olivia Rodrigo</td>\n",
       "    </tr>\n",
       "    <tr>\n",
       "      <th>4</th>\n",
       "      <td>RT @chartdata: Billboard 200: #3(-2) @Olivia_Rodrigo, SOUR 74,000 (1,650,000 units since release). *peak: #1 for 5 weeks*</td>\n",
       "      <td>81</td>\n",
       "      <td>0</td>\n",
       "      <td>2021-09-06 00:47:43</td>\n",
       "      <td>AE AE AE</td>\n",
       "      <td>เป็นอากามี่บลิ้งค์ค่ะ</td>\n",
       "      <td>15</td>\n",
       "      <td></td>\n",
       "      <td>Olivia Rodrigo</td>\n",
       "    </tr>\n",
       "  </tbody>\n",
       "</table>\n",
       "</div>"
      ],
      "text/plain": [
       "                                                                                                                                               Text  \\\n",
       "0   RT @chartdata: Biggest US album debuts of 2021:\\n#1 DONDA @kanyewest 309K\\n#2 SOUR @Olivia_Rodrigo 295K\\n#3 Fearless (Taylor's Version) @taylo…   \n",
       "1  RT @chartwomen: Most streamed female artists on Spotify in 2021 so far: \\n\\n#1 @TaylorSwift13 5.4B\\n#2 @ArianaGrande 4.5B\\n#3 @Olivia_Rodrigo 4…   \n",
       "2                                 @chartdata @kanyewest @Olivia_Rodrigo @taylorswift13 @JColeNC @MorganWallen @billieeilish Hw abt Pure Album Sales   \n",
       "3    RT @PopCrave: ‘SOUR’ by @Olivia_Rodrigo is #3 on this week’s Billboard 200 after moving a further 74,000 units.\\n\\nIt previously spent five w…   \n",
       "4                         RT @chartdata: Billboard 200: #3(-2) @Olivia_Rodrigo, SOUR 74,000 (1,650,000 units since release). *peak: #1 for 5 weeks*   \n",
       "\n",
       "   Retweets  Favorites        Created Date                Username  \\\n",
       "0       172          0 2021-09-06 00:50:22                   Gordy   \n",
       "1       139          0 2021-09-06 00:49:54              Constança🧣   \n",
       "2         0          0 2021-09-06 00:49:06                   gbzgt   \n",
       "3        41          0 2021-09-06 00:48:40  jen signed up for this   \n",
       "4        81          0 2021-09-06 00:47:43                AE AE AE   \n",
       "\n",
       "                                                                                                                                     User Description  \\\n",
       "0                                                                                                                                                       \n",
       "1  don't blame me and wildest dreams stan🖤🤍\\n                                                                fan account || 15 || Portugal🇵🇹 ||\\ntn×1   \n",
       "2                                                                                                                                            Filipino   \n",
       "3     safe space dms always open🫂bisexual🐝💓21 yo swedish wicca girl,engaged💍aries♈️ BLM & LBTQ+ LIFE’S MATTER👊🏽👊🏾👊🏿🏳️‍🌈🏳️‍⚧️tmylm tour june 2nd 2018🧸   \n",
       "4                                                                                                                               เป็นอากามี่บลิ้งค์ค่ะ   \n",
       "\n",
       "   Number of Followers     User Location          Artist  \n",
       "0                   32    Fort Worth, TX  Olivia Rodrigo  \n",
       "1                 1832  Lisboa, Portugal  Olivia Rodrigo  \n",
       "2                  213                    Olivia Rodrigo  \n",
       "3                 2092          She/they  Olivia Rodrigo  \n",
       "4                   15                    Olivia Rodrigo  "
      ]
     },
     "execution_count": 41,
     "metadata": {},
     "output_type": "execute_result"
    }
   ],
   "source": [
    "tweet_df.head(5)"
   ]
  },
  {
   "cell_type": "markdown",
   "metadata": {},
   "source": [
    "### Q1. Write a short description of data you have captured and how they might be used. Make sure your answer is no longer than two paragraphs, and should at minimum answer these questions:\n"
   ]
  },
  {
   "cell_type": "markdown",
   "metadata": {},
   "source": [
    "\n",
    "#### What topic are the data related to and why is it relevant to your company?\n",
    "#### What type of information can we get from the text?\n",
    "#### What non-text fields did you include and why?"
   ]
  },
  {
   "cell_type": "markdown",
   "metadata": {},
   "source": [
    "The data I decided to look at is current popular music, songs, and artists. I believe this data can be used from a company marketing standpoint. In regards to building brand partnerships with popular artists that can increase the companies brand awareness awareness among the artists fan demographic for our company products where are target consumers overlaps. These can be social media influencing, playing the song more in store or advertising, and celebrity endorsements.\n",
    "\n",
    "From the text we are able to see the current popular artists and their music. We are also able to see current sentiment towards these artists through tweet texts and get a glimpse into their fanbase to see if there are overlaps with our target consumer. I included Favorites, retweets, follower counts, rankings and dates. These can give a glimpse into the artist popularity and current trends in the pop music space.\n",
    "\n"
   ]
  },
  {
   "cell_type": "markdown",
   "metadata": {},
   "source": [
    "### Q2. Write a short description comparing the context surrounding each of the two data sources. Make sure your answer is no longer than three paragraphs, and should at minimum answer these questions:"
   ]
  },
  {
   "cell_type": "markdown",
   "metadata": {},
   "source": [
    "#### How different is the context in which the data were generated (e.g. news vs. social media)?\n",
    "#### How technically different was the collection and manipulation of these two data sources?\n",
    "#### How do the contextual and technical differences influence the data’s relevance or usefulness for your company?"
   ]
  },
  {
   "cell_type": "markdown",
   "metadata": {},
   "source": [
    "The news context is that it is showing a ranking based on song streams and sales that is quantifiable facts. Social media is able to show more opinions of the artist and is changing as time goes on. For example, through the social media data I was able to find out that Olivia Rodrigo had a recent scandal involving her music which may cause our company to look for other artists. The news just shows that she has the most popular song.\n",
    "\n",
    "The technical collection was a bit tougher sifting thorough the html on the website to find the relevant information to pull in. Thev results from the news collection informed what the collections of social media would be scraped.\n",
    "\n",
    "The datas relevance is informed first by the news collection. This is useful in finding a very broad scope of current popularity among current artists and songs. From here we are then able to focus more specifically on these popular artists indiviually to find things like fan sentiment, fan demographic, popularity, scandals, and ultimately to see if this popular artist may be a good candidate to further look into as a partner in a marketing campaign,"
   ]
  },
  {
   "cell_type": "code",
   "execution_count": null,
   "metadata": {},
   "outputs": [],
   "source": []
  }
 ],
 "metadata": {
  "kernelspec": {
   "display_name": "Python 3",
   "language": "python",
   "name": "python3"
  },
  "language_info": {
   "codemirror_mode": {
    "name": "ipython",
    "version": 3
   },
   "file_extension": ".py",
   "mimetype": "text/x-python",
   "name": "python",
   "nbconvert_exporter": "python",
   "pygments_lexer": "ipython3",
   "version": "3.7.6"
  }
 },
 "nbformat": 4,
 "nbformat_minor": 4
}
