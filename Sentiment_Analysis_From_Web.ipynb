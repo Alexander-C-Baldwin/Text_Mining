{
 "cells": [
  {
   "cell_type": "markdown",
   "metadata": {},
   "source": [
    "The following is a brief sentiment analysis practice using text from a website. I chose to examine song reviews from pitchfork.com. Summary is at end of notebook. This was done for a class assignment."
   ]
  },
  {
   "cell_type": "markdown",
   "metadata": {},
   "source": [
    "### Read in or create a data frame with at least one column of text to be analyzed. "
   ]
  },
  {
   "cell_type": "code",
   "execution_count": 1,
   "metadata": {},
   "outputs": [],
   "source": [
    "# import modules\n",
    "import pandas as pd \n",
    "from bs4 import BeautifulSoup\n",
    "import requests\n",
    "pd.set_option('display.max_colwidth', 150) "
   ]
  },
  {
   "cell_type": "code",
   "execution_count": 2,
   "metadata": {},
   "outputs": [],
   "source": [
    "# Getting reviews from new music\n",
    "page = requests.get('https://pitchfork.com/reviews/tracks/the-war-on-drugs-i-dont-live-here-anymore/')\n",
    " \n",
    "soup = BeautifulSoup(page.text, \"lxml\")"
   ]
  },
  {
   "cell_type": "code",
   "execution_count": 3,
   "metadata": {},
   "outputs": [],
   "source": [
    "# Storing the name of the song, artists and text value in 3 objects\n",
    "\n",
    "artistinfo = soup.find_all(\"ul\",{\"class\":\"artist-links artist-list\"} )\n",
    "songinfo = soup.find_all(\"h1\",{\"class\":\"title\"} )\n",
    "reviewinfo = soup.find_all(\"div\",{\"class\":\"contents\"} )\n",
    "\n",
    "#print(artistinfo)\n",
    "#print(songinfo)\n",
    "#print(reviewingo)"
   ]
  },
  {
   "cell_type": "code",
   "execution_count": 4,
   "metadata": {},
   "outputs": [],
   "source": [
    "\n",
    "#Storing artist info in dictionary\n",
    "\n",
    "artist = {}\n",
    "\n",
    "for a in artistinfo:\n",
    "    artist.setdefault(a.get_text(strip=True), []) \n",
    "    \n",
    "#print(artist)\n",
    "\n",
    "#Storing song info in dictionary\n",
    "\n",
    "song = {}\n",
    "\n",
    "for s in songinfo:\n",
    "    song.setdefault(s.get_text(strip=True), []) \n",
    "    \n",
    "#print(song)\n",
    "\n",
    "#storing review info in dictionary\n",
    "\n",
    "review = {}\n",
    "\n",
    "for r in reviewinfo:\n",
    "    review.setdefault(r.get_text(strip=True), []) \n",
    "    \n",
    "#print(review)\n"
   ]
  },
  {
   "cell_type": "code",
   "execution_count": 5,
   "metadata": {},
   "outputs": [],
   "source": [
    "# Store the text in three dataframes and combine them into one table\n",
    "\n",
    "infodf = pd.DataFrame.from_dict(artist,orient=\"index\") \n",
    "infodf.reset_index(level=[0], inplace=True)\n",
    "\n",
    "infodf1 = pd.DataFrame.from_dict(song,orient=\"index\") \n",
    "infodf1.reset_index(level=[0], inplace=True) \n",
    "\n",
    "infodf2 = pd.DataFrame.from_dict(review,orient=\"index\") \n",
    "infodf2.reset_index(level=[0], inplace=True) \n",
    "\n",
    "infodf.columns = ['Artist']\n",
    "infodf1.columns = ['Song']\n",
    "infodf2.columns = ['Review']\n",
    "\n",
    "reviewdf1 = pd.concat([infodf, infodf1, infodf2], axis=1)"
   ]
  },
  {
   "cell_type": "code",
   "execution_count": 6,
   "metadata": {},
   "outputs": [
    {
     "data": {
      "text/html": [
       "<div>\n",
       "<style scoped>\n",
       "    .dataframe tbody tr th:only-of-type {\n",
       "        vertical-align: middle;\n",
       "    }\n",
       "\n",
       "    .dataframe tbody tr th {\n",
       "        vertical-align: top;\n",
       "    }\n",
       "\n",
       "    .dataframe thead th {\n",
       "        text-align: right;\n",
       "    }\n",
       "</style>\n",
       "<table border=\"1\" class=\"dataframe\">\n",
       "  <thead>\n",
       "    <tr style=\"text-align: right;\">\n",
       "      <th></th>\n",
       "      <th>Artist</th>\n",
       "      <th>Song</th>\n",
       "      <th>Review</th>\n",
       "    </tr>\n",
       "  </thead>\n",
       "  <tbody>\n",
       "    <tr>\n",
       "      <th>0</th>\n",
       "      <td>The War on Drugs</td>\n",
       "      <td>“I Don’t Live Here Anymore”</td>\n",
       "      <td>Here is a song that will make you long to be back in a concrete arena filled with 20,000 new friends, singing together in a way that makes you thi...</td>\n",
       "    </tr>\n",
       "  </tbody>\n",
       "</table>\n",
       "</div>"
      ],
      "text/plain": [
       "             Artist                         Song  \\\n",
       "0  The War on Drugs  “I Don’t Live Here Anymore”   \n",
       "\n",
       "                                                                                                                                                  Review  \n",
       "0  Here is a song that will make you long to be back in a concrete arena filled with 20,000 new friends, singing together in a way that makes you thi...  "
      ]
     },
     "execution_count": 6,
     "metadata": {},
     "output_type": "execute_result"
    }
   ],
   "source": [
    "reviewdf1[0:]"
   ]
  },
  {
   "cell_type": "code",
   "execution_count": 7,
   "metadata": {},
   "outputs": [],
   "source": [
    "# Getting more reviews for current music\n",
    "page = requests.get('https://pitchfork.com/reviews/tracks/snail-mail-valentine/')\n",
    " \n",
    "soup = BeautifulSoup(page.text, \"lxml\")"
   ]
  },
  {
   "cell_type": "code",
   "execution_count": 8,
   "metadata": {},
   "outputs": [],
   "source": [
    "# Repeat with another review\n",
    "\n",
    "artistinfo2 = soup.find_all(\"ul\",{\"class\":\"artist-links artist-list\"} )\n",
    "songinfo2 = soup.find_all(\"h1\",{\"class\":\"title\"} )\n",
    "reviewinfo2 = soup.find_all(\"div\",{\"class\":\"contents\"} )"
   ]
  },
  {
   "cell_type": "code",
   "execution_count": 9,
   "metadata": {},
   "outputs": [],
   "source": [
    "#Storing artist info in dictionary\n",
    "\n",
    "artist2 = {}\n",
    "\n",
    "for a in artistinfo2:\n",
    "    artist2.setdefault(a.get_text(strip=True), []) \n",
    "    \n",
    "#print(artist2)\n",
    "\n",
    "#Storing song info in dictionary\n",
    "\n",
    "song2 = {}\n",
    "\n",
    "for s in songinfo2:\n",
    "    song2.setdefault(s.get_text(strip=True), []) \n",
    "    \n",
    "#print(song2)\n",
    "\n",
    "#storing review info in dictionary\n",
    "\n",
    "review2 = {}\n",
    "\n",
    "for r in reviewinfo2:\n",
    "    review2.setdefault(r.get_text(strip=True), []) \n",
    "    \n",
    "#print(review2)"
   ]
  },
  {
   "cell_type": "code",
   "execution_count": 10,
   "metadata": {},
   "outputs": [],
   "source": [
    "v2infodf = pd.DataFrame.from_dict(artist2,orient=\"index\") \n",
    "v2infodf.reset_index(level=[0], inplace=True)\n",
    "\n",
    "v2infodf1 = pd.DataFrame.from_dict(song2,orient=\"index\") \n",
    "v2infodf1.reset_index(level=[0], inplace=True) \n",
    "\n",
    "v2infodf2 = pd.DataFrame.from_dict(review2,orient=\"index\") \n",
    "v2infodf2.reset_index(level=[0], inplace=True) \n",
    "\n",
    "v2infodf.columns = ['Artist']\n",
    "v2infodf1.columns = ['Song']\n",
    "v2infodf2.columns = ['Review']\n",
    "\n",
    "reviewdf2 = pd.concat([v2infodf, v2infodf1, v2infodf2], axis=1)"
   ]
  },
  {
   "cell_type": "code",
   "execution_count": 11,
   "metadata": {},
   "outputs": [],
   "source": [
    "# Getting reviews from new music for a final time and repeat previous process\n",
    "page = requests.get('https://pitchfork.com/reviews/tracks/oneohtrix-point-never-elizabeth-fraser-tales-from-the-trash-stratum/')\n",
    " \n",
    "soup = BeautifulSoup(page.text, \"lxml\")"
   ]
  },
  {
   "cell_type": "code",
   "execution_count": 12,
   "metadata": {},
   "outputs": [],
   "source": [
    "# Storing the name of the song, artists and text value in 3 objects\n",
    "\n",
    "artistinfo3 = soup.find_all(\"ul\",{\"class\":\"artist-links artist-list\"} )\n",
    "songinfo3 = soup.find_all(\"h1\",{\"class\":\"title\"} )\n",
    "reviewinfo3 = soup.find_all(\"div\",{\"class\":\"contents\"} )\n",
    "\n",
    "#print(artistinfo3)\n",
    "#print(songinfo3)\n",
    "#print(reviewingo3)"
   ]
  },
  {
   "cell_type": "code",
   "execution_count": 13,
   "metadata": {},
   "outputs": [],
   "source": [
    "#Storing artist info in dictionary\n",
    "\n",
    "artist3 = {}\n",
    "\n",
    "for a in artistinfo3:\n",
    "    artist3.setdefault(a.get_text(strip=True), []) \n",
    "    \n",
    "#print(artist3)\n",
    "\n",
    "#Storing song info in dictionary\n",
    "\n",
    "song3 = {}\n",
    "\n",
    "for s in songinfo3:\n",
    "    song3.setdefault(s.get_text(strip=True), []) \n",
    "    \n",
    "#print(song3)\n",
    "\n",
    "#storing review info in dictionary\n",
    "\n",
    "review3 = {}\n",
    "\n",
    "for r in reviewinfo3:\n",
    "    review3.setdefault(r.get_text(strip=True), []) \n",
    "    \n",
    "#print(review3)"
   ]
  },
  {
   "cell_type": "code",
   "execution_count": 14,
   "metadata": {},
   "outputs": [],
   "source": [
    "v3infodf = pd.DataFrame.from_dict(artist3,orient=\"index\") \n",
    "v3infodf.reset_index(level=[0], inplace=True)\n",
    "\n",
    "v3infodf1 = pd.DataFrame.from_dict(song3,orient=\"index\") \n",
    "v3infodf1.reset_index(level=[0], inplace=True) \n",
    "\n",
    "v3infodf2 = pd.DataFrame.from_dict(review3,orient=\"index\") \n",
    "v3infodf2.reset_index(level=[0], inplace=True) \n",
    "\n",
    "v3infodf.columns = ['Artist']\n",
    "v3infodf1.columns = ['Song']\n",
    "v3infodf2.columns = ['Review']\n",
    "\n",
    "reviewdf3 = pd.concat([v3infodf, v3infodf1, v3infodf2], axis=1)"
   ]
  },
  {
   "cell_type": "code",
   "execution_count": 15,
   "metadata": {},
   "outputs": [],
   "source": [
    "# Combine the three dataframes into one table\n",
    "\n",
    "reviews = pd.concat([reviewdf1, reviewdf2, reviewdf3])"
   ]
  },
  {
   "cell_type": "code",
   "execution_count": 16,
   "metadata": {},
   "outputs": [
    {
     "data": {
      "text/html": [
       "<div>\n",
       "<style scoped>\n",
       "    .dataframe tbody tr th:only-of-type {\n",
       "        vertical-align: middle;\n",
       "    }\n",
       "\n",
       "    .dataframe tbody tr th {\n",
       "        vertical-align: top;\n",
       "    }\n",
       "\n",
       "    .dataframe thead th {\n",
       "        text-align: right;\n",
       "    }\n",
       "</style>\n",
       "<table border=\"1\" class=\"dataframe\">\n",
       "  <thead>\n",
       "    <tr style=\"text-align: right;\">\n",
       "      <th></th>\n",
       "      <th>Artist</th>\n",
       "      <th>Song</th>\n",
       "      <th>Review</th>\n",
       "    </tr>\n",
       "  </thead>\n",
       "  <tbody>\n",
       "    <tr>\n",
       "      <th>0</th>\n",
       "      <td>The War on Drugs</td>\n",
       "      <td>“I Don’t Live Here Anymore”</td>\n",
       "      <td>Here is a song that will make you long to be back in a concrete arena filled with 20,000 new friends, singing together in a way that makes you thi...</td>\n",
       "    </tr>\n",
       "    <tr>\n",
       "      <th>0</th>\n",
       "      <td>Snail Mail</td>\n",
       "      <td>“Valentine”</td>\n",
       "      <td>Many young female musicians who were heralded as prodigies have made music this year revisiting the barbarity of that early renown, the powerlessn...</td>\n",
       "    </tr>\n",
       "    <tr>\n",
       "      <th>0</th>\n",
       "      <td>Oneohtrix Point NeverElizabeth Fraser</td>\n",
       "      <td>“Tales From the Trash Stratum”</td>\n",
       "      <td>For someone with such a fiercely individual sound,Daniel Lopatinhas developed a surprisingly wide-ranging roster of collaborators over the years:A...</td>\n",
       "    </tr>\n",
       "  </tbody>\n",
       "</table>\n",
       "</div>"
      ],
      "text/plain": [
       "                                  Artist                            Song  \\\n",
       "0                       The War on Drugs     “I Don’t Live Here Anymore”   \n",
       "0                             Snail Mail                     “Valentine”   \n",
       "0  Oneohtrix Point NeverElizabeth Fraser  “Tales From the Trash Stratum”   \n",
       "\n",
       "                                                                                                                                                  Review  \n",
       "0  Here is a song that will make you long to be back in a concrete arena filled with 20,000 new friends, singing together in a way that makes you thi...  \n",
       "0  Many young female musicians who were heralded as prodigies have made music this year revisiting the barbarity of that early renown, the powerlessn...  \n",
       "0  For someone with such a fiercely individual sound,Daniel Lopatinhas developed a surprisingly wide-ranging roster of collaborators over the years:A...  "
      ]
     },
     "execution_count": 16,
     "metadata": {},
     "output_type": "execute_result"
    }
   ],
   "source": [
    "reviews[0:]"
   ]
  },
  {
   "cell_type": "markdown",
   "metadata": {},
   "source": [
    "### Perform the preprocessing steps you deem appropriate and append the results to your original data frame. "
   ]
  },
  {
   "cell_type": "code",
   "execution_count": 17,
   "metadata": {},
   "outputs": [],
   "source": [
    "# import module(s) into namespace\n",
    "#removing common stopwords\n",
    "\n",
    "\n",
    "import numpy as np \n",
    "pd.set_option('display.max_colwidth', 1500) #important for getting all the text\n",
    "from nltk.corpus import stopwords\n",
    "\n",
    "#create an object storing the default nltk stopwords\n",
    "nltk_stopwords = stopwords.words(\"english\") "
   ]
  },
  {
   "cell_type": "code",
   "execution_count": 30,
   "metadata": {},
   "outputs": [
    {
     "name": "stdout",
     "output_type": "stream",
     "text": [
      "(3, 488)\n"
     ]
    },
    {
     "data": {
      "text/html": [
       "<div>\n",
       "<style scoped>\n",
       "    .dataframe tbody tr th:only-of-type {\n",
       "        vertical-align: middle;\n",
       "    }\n",
       "\n",
       "    .dataframe tbody tr th {\n",
       "        vertical-align: top;\n",
       "    }\n",
       "\n",
       "    .dataframe thead th {\n",
       "        text-align: right;\n",
       "    }\n",
       "</style>\n",
       "<table border=\"1\" class=\"dataframe\">\n",
       "  <thead>\n",
       "    <tr style=\"text-align: right;\">\n",
       "      <th></th>\n",
       "      <th>count</th>\n",
       "    </tr>\n",
       "  </thead>\n",
       "  <tbody>\n",
       "    <tr>\n",
       "      <th>lopatin</th>\n",
       "      <td>7</td>\n",
       "    </tr>\n",
       "    <tr>\n",
       "      <th>point</th>\n",
       "      <td>5</td>\n",
       "    </tr>\n",
       "    <tr>\n",
       "      <th>fraser</th>\n",
       "      <td>5</td>\n",
       "    </tr>\n",
       "    <tr>\n",
       "      <th>jordan</th>\n",
       "      <td>5</td>\n",
       "    </tr>\n",
       "    <tr>\n",
       "      <th>like</th>\n",
       "      <td>5</td>\n",
       "    </tr>\n",
       "    <tr>\n",
       "      <th>twins</th>\n",
       "      <td>4</td>\n",
       "    </tr>\n",
       "    <tr>\n",
       "      <th>cocteau</th>\n",
       "      <td>4</td>\n",
       "    </tr>\n",
       "    <tr>\n",
       "      <th>sound</th>\n",
       "      <td>4</td>\n",
       "    </tr>\n",
       "    <tr>\n",
       "      <th>never</th>\n",
       "      <td>4</td>\n",
       "    </tr>\n",
       "    <tr>\n",
       "      <th>voice</th>\n",
       "      <td>3</td>\n",
       "    </tr>\n",
       "    <tr>\n",
       "      <th>sounds</th>\n",
       "      <td>3</td>\n",
       "    </tr>\n",
       "    <tr>\n",
       "      <th>young</th>\n",
       "      <td>3</td>\n",
       "    </tr>\n",
       "    <tr>\n",
       "      <th>tone</th>\n",
       "      <td>3</td>\n",
       "    </tr>\n",
       "    <tr>\n",
       "      <th>high</th>\n",
       "      <td>3</td>\n",
       "    </tr>\n",
       "    <tr>\n",
       "      <th>made</th>\n",
       "      <td>3</td>\n",
       "    </tr>\n",
       "    <tr>\n",
       "      <th>valentine</th>\n",
       "      <td>3</td>\n",
       "    </tr>\n",
       "    <tr>\n",
       "      <th>rock</th>\n",
       "      <td>3</td>\n",
       "    </tr>\n",
       "    <tr>\n",
       "      <th>granduciel</th>\n",
       "      <td>3</td>\n",
       "    </tr>\n",
       "    <tr>\n",
       "      <th>getting</th>\n",
       "      <td>3</td>\n",
       "    </tr>\n",
       "    <tr>\n",
       "      <th>lover</th>\n",
       "      <td>3</td>\n",
       "    </tr>\n",
       "  </tbody>\n",
       "</table>\n",
       "</div>"
      ],
      "text/plain": [
       "            count\n",
       "lopatin         7\n",
       "point           5\n",
       "fraser          5\n",
       "jordan          5\n",
       "like            5\n",
       "twins           4\n",
       "cocteau         4\n",
       "sound           4\n",
       "never           4\n",
       "voice           3\n",
       "sounds          3\n",
       "young           3\n",
       "tone            3\n",
       "high            3\n",
       "made            3\n",
       "valentine       3\n",
       "rock            3\n",
       "granduciel      3\n",
       "getting         3\n",
       "lover           3"
      ]
     },
     "execution_count": 30,
     "metadata": {},
     "output_type": "execute_result"
    }
   ],
   "source": [
    "from sklearn.feature_extraction.text import CountVectorizer\n",
    "\n",
    "cv = CountVectorizer(binary=False, stop_words = nltk_stopwords, min_df=.05, max_df =.70) \n",
    "cv_dm = cv.fit_transform(reviews['Review'])\n",
    "print(cv_dm.shape)\n",
    "names = cv.get_feature_names()   #create list of feature names\n",
    "count = np.sum(cv_dm.toarray(), axis = 0) # add up feature counts \n",
    "count2 = count.tolist()  # convert numpy array to list\n",
    "count_df = pd.DataFrame(count2, index = names, columns = ['count']) # create a dataframe from the list\n",
    "count_df.sort_values(['count'], ascending = False)[0:20]  #arrange by count instead of alphabetical (top 20)"
   ]
  },
  {
   "cell_type": "markdown",
   "metadata": {},
   "source": [
    "I am liking this output I dont see any repeating or plural form words. The artists names for each song are used most commonly in the text. "
   ]
  },
  {
   "cell_type": "code",
   "execution_count": 31,
   "metadata": {},
   "outputs": [],
   "source": [
    "import re"
   ]
  },
  {
   "cell_type": "code",
   "execution_count": 32,
   "metadata": {},
   "outputs": [],
   "source": [
    "# using dictionaries I am going to remove the artist name for a cleaner analysis on the reviews\n",
    "# using words that are not artist names. This may also be able to bring an objective analysis to each review and may\n",
    "# remove some bias if we do not know which artist the review is talking about.\n",
    "\n",
    "artist_dict = {'lopatin':'artist', 'fraser':'artist', 'jordan':'artist', 'cocteau':'artist', 'granduciel':'artist', 'oneohtrix':'artist', 'twins':'artist'}\n",
    "\n",
    "\n",
    "def multiple_replace(dict, text): \n",
    "\n",
    "  \"\"\" Replace in 'text' all occurences of any key in the given\n",
    "  dictionary by its corresponding value.  Returns the new tring.\"\"\" \n",
    "  text = str(text).lower()\n",
    "\n",
    "  # Create a regular expression  from the dictionary keys\n",
    "  regex = re.compile(\"(%s)\" % \"|\".join(map(re.escape, dict.keys())))\n",
    "\n",
    "  # For each match, look-up corresponding value in dictionary\n",
    "  return regex.sub(lambda mo: dict[mo.string[mo.start():mo.end()]], text)\n"
   ]
  },
  {
   "cell_type": "code",
   "execution_count": 33,
   "metadata": {},
   "outputs": [
    {
     "data": {
      "text/html": [
       "<div>\n",
       "<style scoped>\n",
       "    .dataframe tbody tr th:only-of-type {\n",
       "        vertical-align: middle;\n",
       "    }\n",
       "\n",
       "    .dataframe tbody tr th {\n",
       "        vertical-align: top;\n",
       "    }\n",
       "\n",
       "    .dataframe thead th {\n",
       "        text-align: right;\n",
       "    }\n",
       "</style>\n",
       "<table border=\"1\" class=\"dataframe\">\n",
       "  <thead>\n",
       "    <tr style=\"text-align: right;\">\n",
       "      <th></th>\n",
       "      <th>Artist</th>\n",
       "      <th>Song</th>\n",
       "      <th>Review</th>\n",
       "      <th>artistremoved</th>\n",
       "      <th>afinn</th>\n",
       "    </tr>\n",
       "  </thead>\n",
       "  <tbody>\n",
       "    <tr>\n",
       "      <th>0</th>\n",
       "      <td>The War on Drugs</td>\n",
       "      <td>“I Don’t Live Here Anymore”</td>\n",
       "      <td>Here is a song that will make you long to be back in a concrete arena filled with 20,000 new friends, singing together in a way that makes you think, if only for a moment, that humanity might not be swirling toward total catastrophe. You can feel the stick on the soles of your feet just by listening to this thing. You can smell the frankfurters. It’s the type of anthem that makes one of those $18 Budweisers in a commemorative plastic cup seem like a damn bargain—a small price to pay to briefly heighten some sense of communion after a year and a half of pandemic seclusion.Everything about the title track tothe War on Drugs’upcoming fifth albumis gloriously unsubtle, including its opening lines. “I was lying in my bed/A creature void of form,” sings bandleader Adam Granduciel,noddingto Dylan. “Been so afraid of everything/I need a chance to be reborn.” And honestly, whodoesn’tfeel like that right now? Cue the synths reminiscent of Don Henley’s “Boys of Summer,” the drums sparkling enough to make ’80s stadium-rock guru Mutt Lange bow down in appreciation, and the gospel-tinged backing vocals that urge you to believe in something beyond yourself. Granduciel has been meticulously mining classic rock sounds for more than a decade, but never quite like this; his Springsteen fandom is well-documented (his young son is named Bruce) but he’s never made a song as welcoming as “Hungry Heart” until now.“I Don’t Live Here Anymore” celebrates getting to the point in life when you’re no ...</td>\n",
       "      <td>here is a song that will make you long to be back in a concrete arena filled with 20,000 new friends, singing together in a way that makes you think, if only for a moment, that humanity might not be swirling toward total catastrophe. you can feel the stick on the soles of your feet just by listening to this thing. you can smell the frankfurters. it’s the type of anthem that makes one of those $18 budweisers in a commemorative plastic cup seem like a damn bargain—a small price to pay to briefly heighten some sense of communion after a year and a half of pandemic seclusion.everything about the title track tothe war on drugs’upcoming fifth albumis gloriously unsubtle, including its opening lines. “i was lying in my bed/a creature void of form,” sings bandleader adam artist,noddingto dylan. “been so afraid of everything/i need a chance to be reborn.” and honestly, whodoesn’tfeel like that right now? cue the synths reminiscent of don henley’s “boys of summer,” the drums sparkling enough to make ’80s stadium-rock guru mutt lange bow down in appreciation, and the gospel-tinged backing vocals that urge you to believe in something beyond yourself. artist has been meticulously mining classic rock sounds for more than a decade, but never quite like this; his springsteen fandom is well-documented (his young son is named bruce) but he’s never made a song as welcoming as “hungry heart” until now.“i don’t live here anymore” celebrates getting to the point in life when you’re no longer d...</td>\n",
       "      <td>Positive</td>\n",
       "    </tr>\n",
       "    <tr>\n",
       "      <th>0</th>\n",
       "      <td>Snail Mail</td>\n",
       "      <td>“Valentine”</td>\n",
       "      <td>Many young female musicians who were heralded as prodigies have made music this year revisiting the barbarity of that early renown, the powerlessness they felt as teenagers trapped in an all-consuming gaze.Lordedescribed having “nightmares from the camera flash”;Billie Eilishobserved “a stalker walking up and down the street”;Clairospoke about being “just useless and a whore” but still getting cosigned by “your favorite one-man show” after being sexualized in the industry. To deal with the aftereffects of a “young life colliding with sudden fame,” Lindsey Jordan ofSnail Mail—who became an indie rock phenom after she released her debut album,Lush, at 18—spent time at a recovery facility. There she charted out arrangements for what would be her upcoming second album,Valentine,later building on and refining those sketches in North Carolina with producer Brad Cook. Her intimate worlds, usually confined to a “you” and “I,” now face unwanted intruders: “Careful in that room,” she warns a lover onValentine’stitle track. “Those parasitic cameras, don’t they stop to stare at you?”The most striking change on “Valentine” is Jordan’s voice, which is deeper, hoarser, and more mature than before. It cuts through foggy, cinematic synths as she lays out the unsteady dynamics of a relationship (“You’ve gotta live/And I gotta go”) while emphasizing the force of her devotion (“Fuck being remembered/I think I was made for you”). “Valentine” is accompanied by a gory, high-drama musicvideoin w...</td>\n",
       "      <td>many young female musicians who were heralded as prodigies have made music this year revisiting the barbarity of that early renown, the powerlessness they felt as teenagers trapped in an all-consuming gaze.lordedescribed having “nightmares from the camera flash”;billie eilishobserved “a stalker walking up and down the street”;clairospoke about being “just useless and a whore” but still getting cosigned by “your favorite one-man show” after being sexualized in the industry. to deal with the aftereffects of a “young life colliding with sudden fame,” lindsey artist ofsnail mail—who became an indie rock phenom after she released her debut album,lush, at 18—spent time at a recovery facility. there she charted out arrangements for what would be her upcoming second album,valentine,later building on and refining those sketches in north carolina with producer brad cook. her intimate worlds, usually confined to a “you” and “i,” now face unwanted intruders: “careful in that room,” she warns a lover onvalentine’stitle track. “those parasitic cameras, don’t they stop to stare at you?”the most striking change on “valentine” is artist’s voice, which is deeper, hoarser, and more mature than before. it cuts through foggy, cinematic synths as she lays out the unsteady dynamics of a relationship (“you’ve gotta live/and i gotta go”) while emphasizing the force of her devotion (“fuck being remembered/i think i was made for you”). “valentine” is accompanied by a gory, high-drama musicvideoin w...</td>\n",
       "      <td>Negative</td>\n",
       "    </tr>\n",
       "    <tr>\n",
       "      <th>0</th>\n",
       "      <td>Oneohtrix Point NeverElizabeth Fraser</td>\n",
       "      <td>“Tales From the Trash Stratum”</td>\n",
       "      <td>For someone with such a fiercely individual sound,Daniel Lopatinhas developed a surprisingly wide-ranging roster of collaborators over the years:ANOHNI,the Weeknd,Rosalía—evenIggy Pop. All of those artists fall far from the hazy zone that Lopatin has mapped out with hisOneohtrix Point Neverproject, in which dead media and outmoded technology collide with high-definition sound-sculpting, to frequently nostalgic effect.Elizabeth Fraser, on the other hand, feels like an indirect influence on Lopatin’s music:Cocteau Twins’ soft, gelatinous sound worlds lay the spongy groundwork for his own shape-shifting fantasia, and occasionally can even be heard echoing through OPN’s hall of mirrors—as onMagic Oneohtrix Point Never’s “Imago,” for instance, which sounds like the Cocteau Twins andHarold Budd’sThe Moon and the Melodiesbeing squished through Lopatin’s digital wringer.Fraser herself is barely audible in this collaborative revamp ofMagic Oneohtrix Point Never’s “Tales From the Trash Stratum,”  a bonus track on thenew Blu-Ray editionof the album; at least, she’s barely identifiable. You might not immediately guess from her impressionist daubs of tone color that it is her voice. Fraser’s work in the Cocteau Twins developed a reputation for being indecipherable: inventing words, twisting her syntax, and generally letting the sound of her syllables take precedence over boring old linguistic meaning. Here, if anything, she sounds even more abstract, offering gentle, birdlike chirps a...</td>\n",
       "      <td>for someone with such a fiercely individual sound,daniel artisthas developed a surprisingly wide-ranging roster of collaborators over the years:anohni,the weeknd,rosalía—eveniggy pop. all of those artists fall far from the hazy zone that artist has mapped out with hisartist point neverproject, in which dead media and outmoded technology collide with high-definition sound-sculpting, to frequently nostalgic effect.elizabeth artist, on the other hand, feels like an indirect influence on artist’s music:artist artist’ soft, gelatinous sound worlds lay the spongy groundwork for his own shape-shifting fantasia, and occasionally can even be heard echoing through opn’s hall of mirrors—as onmagic artist point never’s “imago,” for instance, which sounds like the artist artist andharold budd’sthe moon and the melodiesbeing squished through artist’s digital wringer.artist herself is barely audible in this collaborative revamp ofmagic artist point never’s “tales from the trash stratum,”  a bonus track on thenew blu-ray editionof the album; at least, she’s barely identifiable. you might not immediately guess from her impressionist daubs of tone color that it is her voice. artist’s work in the artist artist developed a reputation for being indecipherable: inventing words, twisting her syntax, and generally letting the sound of her syllables take precedence over boring old linguistic meaning. here, if anything, she sounds even more abstract, offering gentle, birdlike chirps and runs that ...</td>\n",
       "      <td>Positive</td>\n",
       "    </tr>\n",
       "  </tbody>\n",
       "</table>\n",
       "</div>"
      ],
      "text/plain": [
       "                                  Artist                            Song  \\\n",
       "0                       The War on Drugs     “I Don’t Live Here Anymore”   \n",
       "0                             Snail Mail                     “Valentine”   \n",
       "0  Oneohtrix Point NeverElizabeth Fraser  “Tales From the Trash Stratum”   \n",
       "\n",
       "                                                                                                                                                                                                                                                                                                                                                                                                                                                                                                                                                                                                                                                                                                                                                                                                                                                                                                                                                                                                                                                                                                                                                                                                                                                                                                                                                                                                                                                                                                                                                        Review  \\\n",
       "0  Here is a song that will make you long to be back in a concrete arena filled with 20,000 new friends, singing together in a way that makes you think, if only for a moment, that humanity might not be swirling toward total catastrophe. You can feel the stick on the soles of your feet just by listening to this thing. You can smell the frankfurters. It’s the type of anthem that makes one of those $18 Budweisers in a commemorative plastic cup seem like a damn bargain—a small price to pay to briefly heighten some sense of communion after a year and a half of pandemic seclusion.Everything about the title track tothe War on Drugs’upcoming fifth albumis gloriously unsubtle, including its opening lines. “I was lying in my bed/A creature void of form,” sings bandleader Adam Granduciel,noddingto Dylan. “Been so afraid of everything/I need a chance to be reborn.” And honestly, whodoesn’tfeel like that right now? Cue the synths reminiscent of Don Henley’s “Boys of Summer,” the drums sparkling enough to make ’80s stadium-rock guru Mutt Lange bow down in appreciation, and the gospel-tinged backing vocals that urge you to believe in something beyond yourself. Granduciel has been meticulously mining classic rock sounds for more than a decade, but never quite like this; his Springsteen fandom is well-documented (his young son is named Bruce) but he’s never made a song as welcoming as “Hungry Heart” until now.“I Don’t Live Here Anymore” celebrates getting to the point in life when you’re no ...   \n",
       "0  Many young female musicians who were heralded as prodigies have made music this year revisiting the barbarity of that early renown, the powerlessness they felt as teenagers trapped in an all-consuming gaze.Lordedescribed having “nightmares from the camera flash”;Billie Eilishobserved “a stalker walking up and down the street”;Clairospoke about being “just useless and a whore” but still getting cosigned by “your favorite one-man show” after being sexualized in the industry. To deal with the aftereffects of a “young life colliding with sudden fame,” Lindsey Jordan ofSnail Mail—who became an indie rock phenom after she released her debut album,Lush, at 18—spent time at a recovery facility. There she charted out arrangements for what would be her upcoming second album,Valentine,later building on and refining those sketches in North Carolina with producer Brad Cook. Her intimate worlds, usually confined to a “you” and “I,” now face unwanted intruders: “Careful in that room,” she warns a lover onValentine’stitle track. “Those parasitic cameras, don’t they stop to stare at you?”The most striking change on “Valentine” is Jordan’s voice, which is deeper, hoarser, and more mature than before. It cuts through foggy, cinematic synths as she lays out the unsteady dynamics of a relationship (“You’ve gotta live/And I gotta go”) while emphasizing the force of her devotion (“Fuck being remembered/I think I was made for you”). “Valentine” is accompanied by a gory, high-drama musicvideoin w...   \n",
       "0  For someone with such a fiercely individual sound,Daniel Lopatinhas developed a surprisingly wide-ranging roster of collaborators over the years:ANOHNI,the Weeknd,Rosalía—evenIggy Pop. All of those artists fall far from the hazy zone that Lopatin has mapped out with hisOneohtrix Point Neverproject, in which dead media and outmoded technology collide with high-definition sound-sculpting, to frequently nostalgic effect.Elizabeth Fraser, on the other hand, feels like an indirect influence on Lopatin’s music:Cocteau Twins’ soft, gelatinous sound worlds lay the spongy groundwork for his own shape-shifting fantasia, and occasionally can even be heard echoing through OPN’s hall of mirrors—as onMagic Oneohtrix Point Never’s “Imago,” for instance, which sounds like the Cocteau Twins andHarold Budd’sThe Moon and the Melodiesbeing squished through Lopatin’s digital wringer.Fraser herself is barely audible in this collaborative revamp ofMagic Oneohtrix Point Never’s “Tales From the Trash Stratum,”  a bonus track on thenew Blu-Ray editionof the album; at least, she’s barely identifiable. You might not immediately guess from her impressionist daubs of tone color that it is her voice. Fraser’s work in the Cocteau Twins developed a reputation for being indecipherable: inventing words, twisting her syntax, and generally letting the sound of her syllables take precedence over boring old linguistic meaning. Here, if anything, she sounds even more abstract, offering gentle, birdlike chirps a...   \n",
       "\n",
       "                                                                                                                                                                                                                                                                                                                                                                                                                                                                                                                                                                                                                                                                                                                                                                                                                                                                                                                                                                                                                                                                                                                                                                                                                                                                                                                                                                                                                                                                                                                                                 artistremoved  \\\n",
       "0  here is a song that will make you long to be back in a concrete arena filled with 20,000 new friends, singing together in a way that makes you think, if only for a moment, that humanity might not be swirling toward total catastrophe. you can feel the stick on the soles of your feet just by listening to this thing. you can smell the frankfurters. it’s the type of anthem that makes one of those $18 budweisers in a commemorative plastic cup seem like a damn bargain—a small price to pay to briefly heighten some sense of communion after a year and a half of pandemic seclusion.everything about the title track tothe war on drugs’upcoming fifth albumis gloriously unsubtle, including its opening lines. “i was lying in my bed/a creature void of form,” sings bandleader adam artist,noddingto dylan. “been so afraid of everything/i need a chance to be reborn.” and honestly, whodoesn’tfeel like that right now? cue the synths reminiscent of don henley’s “boys of summer,” the drums sparkling enough to make ’80s stadium-rock guru mutt lange bow down in appreciation, and the gospel-tinged backing vocals that urge you to believe in something beyond yourself. artist has been meticulously mining classic rock sounds for more than a decade, but never quite like this; his springsteen fandom is well-documented (his young son is named bruce) but he’s never made a song as welcoming as “hungry heart” until now.“i don’t live here anymore” celebrates getting to the point in life when you’re no longer d...   \n",
       "0  many young female musicians who were heralded as prodigies have made music this year revisiting the barbarity of that early renown, the powerlessness they felt as teenagers trapped in an all-consuming gaze.lordedescribed having “nightmares from the camera flash”;billie eilishobserved “a stalker walking up and down the street”;clairospoke about being “just useless and a whore” but still getting cosigned by “your favorite one-man show” after being sexualized in the industry. to deal with the aftereffects of a “young life colliding with sudden fame,” lindsey artist ofsnail mail—who became an indie rock phenom after she released her debut album,lush, at 18—spent time at a recovery facility. there she charted out arrangements for what would be her upcoming second album,valentine,later building on and refining those sketches in north carolina with producer brad cook. her intimate worlds, usually confined to a “you” and “i,” now face unwanted intruders: “careful in that room,” she warns a lover onvalentine’stitle track. “those parasitic cameras, don’t they stop to stare at you?”the most striking change on “valentine” is artist’s voice, which is deeper, hoarser, and more mature than before. it cuts through foggy, cinematic synths as she lays out the unsteady dynamics of a relationship (“you’ve gotta live/and i gotta go”) while emphasizing the force of her devotion (“fuck being remembered/i think i was made for you”). “valentine” is accompanied by a gory, high-drama musicvideoin w...   \n",
       "0  for someone with such a fiercely individual sound,daniel artisthas developed a surprisingly wide-ranging roster of collaborators over the years:anohni,the weeknd,rosalía—eveniggy pop. all of those artists fall far from the hazy zone that artist has mapped out with hisartist point neverproject, in which dead media and outmoded technology collide with high-definition sound-sculpting, to frequently nostalgic effect.elizabeth artist, on the other hand, feels like an indirect influence on artist’s music:artist artist’ soft, gelatinous sound worlds lay the spongy groundwork for his own shape-shifting fantasia, and occasionally can even be heard echoing through opn’s hall of mirrors—as onmagic artist point never’s “imago,” for instance, which sounds like the artist artist andharold budd’sthe moon and the melodiesbeing squished through artist’s digital wringer.artist herself is barely audible in this collaborative revamp ofmagic artist point never’s “tales from the trash stratum,”  a bonus track on thenew blu-ray editionof the album; at least, she’s barely identifiable. you might not immediately guess from her impressionist daubs of tone color that it is her voice. artist’s work in the artist artist developed a reputation for being indecipherable: inventing words, twisting her syntax, and generally letting the sound of her syllables take precedence over boring old linguistic meaning. here, if anything, she sounds even more abstract, offering gentle, birdlike chirps and runs that ...   \n",
       "\n",
       "      afinn  \n",
       "0  Positive  \n",
       "0  Negative  \n",
       "0  Positive  "
      ]
     },
     "execution_count": 33,
     "metadata": {},
     "output_type": "execute_result"
    }
   ],
   "source": [
    "reviews['artistremoved'] = reviews.Review.apply(lambda x: multiple_replace(artist_dict, x))\n",
    "reviews[0:] "
   ]
  },
  {
   "cell_type": "code",
   "execution_count": 34,
   "metadata": {},
   "outputs": [
    {
     "name": "stdout",
     "output_type": "stream",
     "text": [
      "(3, 481)\n"
     ]
    },
    {
     "data": {
      "text/html": [
       "<div>\n",
       "<style scoped>\n",
       "    .dataframe tbody tr th:only-of-type {\n",
       "        vertical-align: middle;\n",
       "    }\n",
       "\n",
       "    .dataframe tbody tr th {\n",
       "        vertical-align: top;\n",
       "    }\n",
       "\n",
       "    .dataframe thead th {\n",
       "        text-align: right;\n",
       "    }\n",
       "</style>\n",
       "<table border=\"1\" class=\"dataframe\">\n",
       "  <thead>\n",
       "    <tr style=\"text-align: right;\">\n",
       "      <th></th>\n",
       "      <th>count</th>\n",
       "    </tr>\n",
       "  </thead>\n",
       "  <tbody>\n",
       "    <tr>\n",
       "      <th>like</th>\n",
       "      <td>5</td>\n",
       "    </tr>\n",
       "    <tr>\n",
       "      <th>point</th>\n",
       "      <td>5</td>\n",
       "    </tr>\n",
       "    <tr>\n",
       "      <th>never</th>\n",
       "      <td>4</td>\n",
       "    </tr>\n",
       "    <tr>\n",
       "      <th>sound</th>\n",
       "      <td>4</td>\n",
       "    </tr>\n",
       "    <tr>\n",
       "      <th>tone</th>\n",
       "      <td>3</td>\n",
       "    </tr>\n",
       "    <tr>\n",
       "      <th>high</th>\n",
       "      <td>3</td>\n",
       "    </tr>\n",
       "    <tr>\n",
       "      <th>even</th>\n",
       "      <td>3</td>\n",
       "    </tr>\n",
       "    <tr>\n",
       "      <th>valentine</th>\n",
       "      <td>3</td>\n",
       "    </tr>\n",
       "    <tr>\n",
       "      <th>voice</th>\n",
       "      <td>3</td>\n",
       "    </tr>\n",
       "    <tr>\n",
       "      <th>sounds</th>\n",
       "      <td>3</td>\n",
       "    </tr>\n",
       "    <tr>\n",
       "      <th>makes</th>\n",
       "      <td>3</td>\n",
       "    </tr>\n",
       "    <tr>\n",
       "      <th>life</th>\n",
       "      <td>3</td>\n",
       "    </tr>\n",
       "    <tr>\n",
       "      <th>album</th>\n",
       "      <td>3</td>\n",
       "    </tr>\n",
       "    <tr>\n",
       "      <th>getting</th>\n",
       "      <td>3</td>\n",
       "    </tr>\n",
       "    <tr>\n",
       "      <th>young</th>\n",
       "      <td>3</td>\n",
       "    </tr>\n",
       "    <tr>\n",
       "      <th>lover</th>\n",
       "      <td>3</td>\n",
       "    </tr>\n",
       "    <tr>\n",
       "      <th>rock</th>\n",
       "      <td>3</td>\n",
       "    </tr>\n",
       "    <tr>\n",
       "      <th>made</th>\n",
       "      <td>3</td>\n",
       "    </tr>\n",
       "    <tr>\n",
       "      <th>digital</th>\n",
       "      <td>3</td>\n",
       "    </tr>\n",
       "    <tr>\n",
       "      <th>developed</th>\n",
       "      <td>2</td>\n",
       "    </tr>\n",
       "  </tbody>\n",
       "</table>\n",
       "</div>"
      ],
      "text/plain": [
       "           count\n",
       "like           5\n",
       "point          5\n",
       "never          4\n",
       "sound          4\n",
       "tone           3\n",
       "high           3\n",
       "even           3\n",
       "valentine      3\n",
       "voice          3\n",
       "sounds         3\n",
       "makes          3\n",
       "life           3\n",
       "album          3\n",
       "getting        3\n",
       "young          3\n",
       "lover          3\n",
       "rock           3\n",
       "made           3\n",
       "digital        3\n",
       "developed      2"
      ]
     },
     "execution_count": 34,
     "metadata": {},
     "output_type": "execute_result"
    }
   ],
   "source": [
    "cv = CountVectorizer(binary=False, stop_words = nltk_stopwords, min_df=.10, max_df =.70) \n",
    "cv_dm = cv.fit_transform(reviews['artistremoved'])\n",
    "print(cv_dm.shape)\n",
    "names = cv.get_feature_names()   #create list of feature names\n",
    "count = np.sum(cv_dm.toarray(), axis = 0) # add up feature counts \n",
    "count2 = count.tolist()  # convert numpy array to list\n",
    "count_df = pd.DataFrame(count2, index = names, columns = ['count']) # create a dataframe from the list\n",
    "count_df.sort_values(['count'], ascending = False)[0:20]  #arrange by count instead of alphabetical (top 20)"
   ]
  },
  {
   "cell_type": "markdown",
   "metadata": {},
   "source": [
    "Artist names eliminated from text to provide for a less biased sentiment analysis now that we do not know who the artist each review is about"
   ]
  },
  {
   "cell_type": "markdown",
   "metadata": {},
   "source": [
    "## Create a sentiment dictionary "
   ]
  },
  {
   "cell_type": "code",
   "execution_count": 35,
   "metadata": {},
   "outputs": [],
   "source": [
    "# here we are going for strictly the sum:  add up the positives and \"subtract\" the negatives\n",
    "# you can return a number or a label\n",
    "#some dictionaries assign a value \n",
    "afinn = {}\n",
    "for line in open(\"C:/Users/17857/Downloads/AFINN-111.txt\"):\n",
    "    tt = line.split('\\t')\n",
    "    afinn.update({tt[0]:int(tt[1])})"
   ]
  },
  {
   "cell_type": "code",
   "execution_count": 36,
   "metadata": {},
   "outputs": [],
   "source": [
    "def afinn_sent(inputstring):\n",
    "    \n",
    "    sentcount =0\n",
    "    for word in inputstring.split():  \n",
    "        if word.rstrip('?:!.,;') in afinn:\n",
    "            sentcount = sentcount + afinn[word.rstrip('?:!.,;')]\n",
    "            \n",
    "    \n",
    "    if (sentcount < 0):\n",
    "        sentiment = 'Negative'\n",
    "    elif (sentcount > 0):\n",
    "        sentiment = 'Positive'\n",
    "    else:\n",
    "        sentiment = 'Neutral'\n",
    "    \n",
    "    return sentiment\n",
    "    #return sentcount"
   ]
  },
  {
   "cell_type": "code",
   "execution_count": 37,
   "metadata": {},
   "outputs": [
    {
     "data": {
      "text/html": [
       "<div>\n",
       "<style scoped>\n",
       "    .dataframe tbody tr th:only-of-type {\n",
       "        vertical-align: middle;\n",
       "    }\n",
       "\n",
       "    .dataframe tbody tr th {\n",
       "        vertical-align: top;\n",
       "    }\n",
       "\n",
       "    .dataframe thead th {\n",
       "        text-align: right;\n",
       "    }\n",
       "</style>\n",
       "<table border=\"1\" class=\"dataframe\">\n",
       "  <thead>\n",
       "    <tr style=\"text-align: right;\">\n",
       "      <th></th>\n",
       "      <th>Review</th>\n",
       "      <th>afinn</th>\n",
       "    </tr>\n",
       "  </thead>\n",
       "  <tbody>\n",
       "    <tr>\n",
       "      <th>0</th>\n",
       "      <td>Here is a song that will make you long to be back in a concrete arena filled with 20,000 new friends, singing together in a way that makes you think, if only for a moment, that humanity might not be swirling toward total catastrophe. You can feel the stick on the soles of your feet just by listening to this thing. You can smell the frankfurters. It’s the type of anthem that makes one of those $18 Budweisers in a commemorative plastic cup seem like a damn bargain—a small price to pay to briefly heighten some sense of communion after a year and a half of pandemic seclusion.Everything about the title track tothe War on Drugs’upcoming fifth albumis gloriously unsubtle, including its opening lines. “I was lying in my bed/A creature void of form,” sings bandleader Adam Granduciel,noddingto Dylan. “Been so afraid of everything/I need a chance to be reborn.” And honestly, whodoesn’tfeel like that right now? Cue the synths reminiscent of Don Henley’s “Boys of Summer,” the drums sparkling enough to make ’80s stadium-rock guru Mutt Lange bow down in appreciation, and the gospel-tinged backing vocals that urge you to believe in something beyond yourself. Granduciel has been meticulously mining classic rock sounds for more than a decade, but never quite like this; his Springsteen fandom is well-documented (his young son is named Bruce) but he’s never made a song as welcoming as “Hungry Heart” until now.“I Don’t Live Here Anymore” celebrates getting to the point in life when you’re no ...</td>\n",
       "      <td>Positive</td>\n",
       "    </tr>\n",
       "    <tr>\n",
       "      <th>0</th>\n",
       "      <td>Many young female musicians who were heralded as prodigies have made music this year revisiting the barbarity of that early renown, the powerlessness they felt as teenagers trapped in an all-consuming gaze.Lordedescribed having “nightmares from the camera flash”;Billie Eilishobserved “a stalker walking up and down the street”;Clairospoke about being “just useless and a whore” but still getting cosigned by “your favorite one-man show” after being sexualized in the industry. To deal with the aftereffects of a “young life colliding with sudden fame,” Lindsey Jordan ofSnail Mail—who became an indie rock phenom after she released her debut album,Lush, at 18—spent time at a recovery facility. There she charted out arrangements for what would be her upcoming second album,Valentine,later building on and refining those sketches in North Carolina with producer Brad Cook. Her intimate worlds, usually confined to a “you” and “I,” now face unwanted intruders: “Careful in that room,” she warns a lover onValentine’stitle track. “Those parasitic cameras, don’t they stop to stare at you?”The most striking change on “Valentine” is Jordan’s voice, which is deeper, hoarser, and more mature than before. It cuts through foggy, cinematic synths as she lays out the unsteady dynamics of a relationship (“You’ve gotta live/And I gotta go”) while emphasizing the force of her devotion (“Fuck being remembered/I think I was made for you”). “Valentine” is accompanied by a gory, high-drama musicvideoin w...</td>\n",
       "      <td>Negative</td>\n",
       "    </tr>\n",
       "    <tr>\n",
       "      <th>0</th>\n",
       "      <td>For someone with such a fiercely individual sound,Daniel Lopatinhas developed a surprisingly wide-ranging roster of collaborators over the years:ANOHNI,the Weeknd,Rosalía—evenIggy Pop. All of those artists fall far from the hazy zone that Lopatin has mapped out with hisOneohtrix Point Neverproject, in which dead media and outmoded technology collide with high-definition sound-sculpting, to frequently nostalgic effect.Elizabeth Fraser, on the other hand, feels like an indirect influence on Lopatin’s music:Cocteau Twins’ soft, gelatinous sound worlds lay the spongy groundwork for his own shape-shifting fantasia, and occasionally can even be heard echoing through OPN’s hall of mirrors—as onMagic Oneohtrix Point Never’s “Imago,” for instance, which sounds like the Cocteau Twins andHarold Budd’sThe Moon and the Melodiesbeing squished through Lopatin’s digital wringer.Fraser herself is barely audible in this collaborative revamp ofMagic Oneohtrix Point Never’s “Tales From the Trash Stratum,”  a bonus track on thenew Blu-Ray editionof the album; at least, she’s barely identifiable. You might not immediately guess from her impressionist daubs of tone color that it is her voice. Fraser’s work in the Cocteau Twins developed a reputation for being indecipherable: inventing words, twisting her syntax, and generally letting the sound of her syllables take precedence over boring old linguistic meaning. Here, if anything, she sounds even more abstract, offering gentle, birdlike chirps a...</td>\n",
       "      <td>Positive</td>\n",
       "    </tr>\n",
       "  </tbody>\n",
       "</table>\n",
       "</div>"
      ],
      "text/plain": [
       "                                                                                                                                                                                                                                                                                                                                                                                                                                                                                                                                                                                                                                                                                                                                                                                                                                                                                                                                                                                                                                                                                                                                                                                                                                                                                                                                                                                                                                                                                                                                                        Review  \\\n",
       "0  Here is a song that will make you long to be back in a concrete arena filled with 20,000 new friends, singing together in a way that makes you think, if only for a moment, that humanity might not be swirling toward total catastrophe. You can feel the stick on the soles of your feet just by listening to this thing. You can smell the frankfurters. It’s the type of anthem that makes one of those $18 Budweisers in a commemorative plastic cup seem like a damn bargain—a small price to pay to briefly heighten some sense of communion after a year and a half of pandemic seclusion.Everything about the title track tothe War on Drugs’upcoming fifth albumis gloriously unsubtle, including its opening lines. “I was lying in my bed/A creature void of form,” sings bandleader Adam Granduciel,noddingto Dylan. “Been so afraid of everything/I need a chance to be reborn.” And honestly, whodoesn’tfeel like that right now? Cue the synths reminiscent of Don Henley’s “Boys of Summer,” the drums sparkling enough to make ’80s stadium-rock guru Mutt Lange bow down in appreciation, and the gospel-tinged backing vocals that urge you to believe in something beyond yourself. Granduciel has been meticulously mining classic rock sounds for more than a decade, but never quite like this; his Springsteen fandom is well-documented (his young son is named Bruce) but he’s never made a song as welcoming as “Hungry Heart” until now.“I Don’t Live Here Anymore” celebrates getting to the point in life when you’re no ...   \n",
       "0  Many young female musicians who were heralded as prodigies have made music this year revisiting the barbarity of that early renown, the powerlessness they felt as teenagers trapped in an all-consuming gaze.Lordedescribed having “nightmares from the camera flash”;Billie Eilishobserved “a stalker walking up and down the street”;Clairospoke about being “just useless and a whore” but still getting cosigned by “your favorite one-man show” after being sexualized in the industry. To deal with the aftereffects of a “young life colliding with sudden fame,” Lindsey Jordan ofSnail Mail—who became an indie rock phenom after she released her debut album,Lush, at 18—spent time at a recovery facility. There she charted out arrangements for what would be her upcoming second album,Valentine,later building on and refining those sketches in North Carolina with producer Brad Cook. Her intimate worlds, usually confined to a “you” and “I,” now face unwanted intruders: “Careful in that room,” she warns a lover onValentine’stitle track. “Those parasitic cameras, don’t they stop to stare at you?”The most striking change on “Valentine” is Jordan’s voice, which is deeper, hoarser, and more mature than before. It cuts through foggy, cinematic synths as she lays out the unsteady dynamics of a relationship (“You’ve gotta live/And I gotta go”) while emphasizing the force of her devotion (“Fuck being remembered/I think I was made for you”). “Valentine” is accompanied by a gory, high-drama musicvideoin w...   \n",
       "0  For someone with such a fiercely individual sound,Daniel Lopatinhas developed a surprisingly wide-ranging roster of collaborators over the years:ANOHNI,the Weeknd,Rosalía—evenIggy Pop. All of those artists fall far from the hazy zone that Lopatin has mapped out with hisOneohtrix Point Neverproject, in which dead media and outmoded technology collide with high-definition sound-sculpting, to frequently nostalgic effect.Elizabeth Fraser, on the other hand, feels like an indirect influence on Lopatin’s music:Cocteau Twins’ soft, gelatinous sound worlds lay the spongy groundwork for his own shape-shifting fantasia, and occasionally can even be heard echoing through OPN’s hall of mirrors—as onMagic Oneohtrix Point Never’s “Imago,” for instance, which sounds like the Cocteau Twins andHarold Budd’sThe Moon and the Melodiesbeing squished through Lopatin’s digital wringer.Fraser herself is barely audible in this collaborative revamp ofMagic Oneohtrix Point Never’s “Tales From the Trash Stratum,”  a bonus track on thenew Blu-Ray editionof the album; at least, she’s barely identifiable. You might not immediately guess from her impressionist daubs of tone color that it is her voice. Fraser’s work in the Cocteau Twins developed a reputation for being indecipherable: inventing words, twisting her syntax, and generally letting the sound of her syllables take precedence over boring old linguistic meaning. Here, if anything, she sounds even more abstract, offering gentle, birdlike chirps a...   \n",
       "\n",
       "      afinn  \n",
       "0  Positive  \n",
       "0  Negative  \n",
       "0  Positive  "
      ]
     },
     "execution_count": 37,
     "metadata": {},
     "output_type": "execute_result"
    }
   ],
   "source": [
    "reviews['afinn'] = reviews.Review.apply(lambda x: afinn_sent(x))\n",
    "reviews.iloc[0:][['Review','afinn']]"
   ]
  },
  {
   "cell_type": "code",
   "execution_count": 38,
   "metadata": {},
   "outputs": [
    {
     "data": {
      "text/html": [
       "<div>\n",
       "<style scoped>\n",
       "    .dataframe tbody tr th:only-of-type {\n",
       "        vertical-align: middle;\n",
       "    }\n",
       "\n",
       "    .dataframe tbody tr th {\n",
       "        vertical-align: top;\n",
       "    }\n",
       "\n",
       "    .dataframe thead th {\n",
       "        text-align: right;\n",
       "    }\n",
       "</style>\n",
       "<table border=\"1\" class=\"dataframe\">\n",
       "  <thead>\n",
       "    <tr style=\"text-align: right;\">\n",
       "      <th></th>\n",
       "      <th>artistremoved</th>\n",
       "      <th>afinn</th>\n",
       "    </tr>\n",
       "  </thead>\n",
       "  <tbody>\n",
       "    <tr>\n",
       "      <th>0</th>\n",
       "      <td>here is a song that will make you long to be back in a concrete arena filled with 20,000 new friends, singing together in a way that makes you think, if only for a moment, that humanity might not be swirling toward total catastrophe. you can feel the stick on the soles of your feet just by listening to this thing. you can smell the frankfurters. it’s the type of anthem that makes one of those $18 budweisers in a commemorative plastic cup seem like a damn bargain—a small price to pay to briefly heighten some sense of communion after a year and a half of pandemic seclusion.everything about the title track tothe war on drugs’upcoming fifth albumis gloriously unsubtle, including its opening lines. “i was lying in my bed/a creature void of form,” sings bandleader adam artist,noddingto dylan. “been so afraid of everything/i need a chance to be reborn.” and honestly, whodoesn’tfeel like that right now? cue the synths reminiscent of don henley’s “boys of summer,” the drums sparkling enough to make ’80s stadium-rock guru mutt lange bow down in appreciation, and the gospel-tinged backing vocals that urge you to believe in something beyond yourself. artist has been meticulously mining classic rock sounds for more than a decade, but never quite like this; his springsteen fandom is well-documented (his young son is named bruce) but he’s never made a song as welcoming as “hungry heart” until now.“i don’t live here anymore” celebrates getting to the point in life when you’re no longer d...</td>\n",
       "      <td>Positive</td>\n",
       "    </tr>\n",
       "    <tr>\n",
       "      <th>0</th>\n",
       "      <td>many young female musicians who were heralded as prodigies have made music this year revisiting the barbarity of that early renown, the powerlessness they felt as teenagers trapped in an all-consuming gaze.lordedescribed having “nightmares from the camera flash”;billie eilishobserved “a stalker walking up and down the street”;clairospoke about being “just useless and a whore” but still getting cosigned by “your favorite one-man show” after being sexualized in the industry. to deal with the aftereffects of a “young life colliding with sudden fame,” lindsey artist ofsnail mail—who became an indie rock phenom after she released her debut album,lush, at 18—spent time at a recovery facility. there she charted out arrangements for what would be her upcoming second album,valentine,later building on and refining those sketches in north carolina with producer brad cook. her intimate worlds, usually confined to a “you” and “i,” now face unwanted intruders: “careful in that room,” she warns a lover onvalentine’stitle track. “those parasitic cameras, don’t they stop to stare at you?”the most striking change on “valentine” is artist’s voice, which is deeper, hoarser, and more mature than before. it cuts through foggy, cinematic synths as she lays out the unsteady dynamics of a relationship (“you’ve gotta live/and i gotta go”) while emphasizing the force of her devotion (“fuck being remembered/i think i was made for you”). “valentine” is accompanied by a gory, high-drama musicvideoin w...</td>\n",
       "      <td>Negative</td>\n",
       "    </tr>\n",
       "    <tr>\n",
       "      <th>0</th>\n",
       "      <td>for someone with such a fiercely individual sound,daniel artisthas developed a surprisingly wide-ranging roster of collaborators over the years:anohni,the weeknd,rosalía—eveniggy pop. all of those artists fall far from the hazy zone that artist has mapped out with hisartist point neverproject, in which dead media and outmoded technology collide with high-definition sound-sculpting, to frequently nostalgic effect.elizabeth artist, on the other hand, feels like an indirect influence on artist’s music:artist artist’ soft, gelatinous sound worlds lay the spongy groundwork for his own shape-shifting fantasia, and occasionally can even be heard echoing through opn’s hall of mirrors—as onmagic artist point never’s “imago,” for instance, which sounds like the artist artist andharold budd’sthe moon and the melodiesbeing squished through artist’s digital wringer.artist herself is barely audible in this collaborative revamp ofmagic artist point never’s “tales from the trash stratum,”  a bonus track on thenew blu-ray editionof the album; at least, she’s barely identifiable. you might not immediately guess from her impressionist daubs of tone color that it is her voice. artist’s work in the artist artist developed a reputation for being indecipherable: inventing words, twisting her syntax, and generally letting the sound of her syllables take precedence over boring old linguistic meaning. here, if anything, she sounds even more abstract, offering gentle, birdlike chirps and runs that ...</td>\n",
       "      <td>Positive</td>\n",
       "    </tr>\n",
       "  </tbody>\n",
       "</table>\n",
       "</div>"
      ],
      "text/plain": [
       "                                                                                                                                                                                                                                                                                                                                                                                                                                                                                                                                                                                                                                                                                                                                                                                                                                                                                                                                                                                                                                                                                                                                                                                                                                                                                                                                                                                                                                                                                                                                                 artistremoved  \\\n",
       "0  here is a song that will make you long to be back in a concrete arena filled with 20,000 new friends, singing together in a way that makes you think, if only for a moment, that humanity might not be swirling toward total catastrophe. you can feel the stick on the soles of your feet just by listening to this thing. you can smell the frankfurters. it’s the type of anthem that makes one of those $18 budweisers in a commemorative plastic cup seem like a damn bargain—a small price to pay to briefly heighten some sense of communion after a year and a half of pandemic seclusion.everything about the title track tothe war on drugs’upcoming fifth albumis gloriously unsubtle, including its opening lines. “i was lying in my bed/a creature void of form,” sings bandleader adam artist,noddingto dylan. “been so afraid of everything/i need a chance to be reborn.” and honestly, whodoesn’tfeel like that right now? cue the synths reminiscent of don henley’s “boys of summer,” the drums sparkling enough to make ’80s stadium-rock guru mutt lange bow down in appreciation, and the gospel-tinged backing vocals that urge you to believe in something beyond yourself. artist has been meticulously mining classic rock sounds for more than a decade, but never quite like this; his springsteen fandom is well-documented (his young son is named bruce) but he’s never made a song as welcoming as “hungry heart” until now.“i don’t live here anymore” celebrates getting to the point in life when you’re no longer d...   \n",
       "0  many young female musicians who were heralded as prodigies have made music this year revisiting the barbarity of that early renown, the powerlessness they felt as teenagers trapped in an all-consuming gaze.lordedescribed having “nightmares from the camera flash”;billie eilishobserved “a stalker walking up and down the street”;clairospoke about being “just useless and a whore” but still getting cosigned by “your favorite one-man show” after being sexualized in the industry. to deal with the aftereffects of a “young life colliding with sudden fame,” lindsey artist ofsnail mail—who became an indie rock phenom after she released her debut album,lush, at 18—spent time at a recovery facility. there she charted out arrangements for what would be her upcoming second album,valentine,later building on and refining those sketches in north carolina with producer brad cook. her intimate worlds, usually confined to a “you” and “i,” now face unwanted intruders: “careful in that room,” she warns a lover onvalentine’stitle track. “those parasitic cameras, don’t they stop to stare at you?”the most striking change on “valentine” is artist’s voice, which is deeper, hoarser, and more mature than before. it cuts through foggy, cinematic synths as she lays out the unsteady dynamics of a relationship (“you’ve gotta live/and i gotta go”) while emphasizing the force of her devotion (“fuck being remembered/i think i was made for you”). “valentine” is accompanied by a gory, high-drama musicvideoin w...   \n",
       "0  for someone with such a fiercely individual sound,daniel artisthas developed a surprisingly wide-ranging roster of collaborators over the years:anohni,the weeknd,rosalía—eveniggy pop. all of those artists fall far from the hazy zone that artist has mapped out with hisartist point neverproject, in which dead media and outmoded technology collide with high-definition sound-sculpting, to frequently nostalgic effect.elizabeth artist, on the other hand, feels like an indirect influence on artist’s music:artist artist’ soft, gelatinous sound worlds lay the spongy groundwork for his own shape-shifting fantasia, and occasionally can even be heard echoing through opn’s hall of mirrors—as onmagic artist point never’s “imago,” for instance, which sounds like the artist artist andharold budd’sthe moon and the melodiesbeing squished through artist’s digital wringer.artist herself is barely audible in this collaborative revamp ofmagic artist point never’s “tales from the trash stratum,”  a bonus track on thenew blu-ray editionof the album; at least, she’s barely identifiable. you might not immediately guess from her impressionist daubs of tone color that it is her voice. artist’s work in the artist artist developed a reputation for being indecipherable: inventing words, twisting her syntax, and generally letting the sound of her syllables take precedence over boring old linguistic meaning. here, if anything, she sounds even more abstract, offering gentle, birdlike chirps and runs that ...   \n",
       "\n",
       "      afinn  \n",
       "0  Positive  \n",
       "0  Negative  \n",
       "0  Positive  "
      ]
     },
     "execution_count": 38,
     "metadata": {},
     "output_type": "execute_result"
    }
   ],
   "source": [
    "reviews['afinn'] = reviews.artistremoved.apply(lambda x: afinn_sent(x))\n",
    "reviews.iloc[0:][['artistremoved','afinn']]"
   ]
  },
  {
   "cell_type": "code",
   "execution_count": 39,
   "metadata": {},
   "outputs": [
    {
     "data": {
      "text/html": [
       "<div>\n",
       "<style scoped>\n",
       "    .dataframe tbody tr th:only-of-type {\n",
       "        vertical-align: middle;\n",
       "    }\n",
       "\n",
       "    .dataframe tbody tr th {\n",
       "        vertical-align: top;\n",
       "    }\n",
       "\n",
       "    .dataframe thead th {\n",
       "        text-align: right;\n",
       "    }\n",
       "</style>\n",
       "<table border=\"1\" class=\"dataframe\">\n",
       "  <thead>\n",
       "    <tr style=\"text-align: right;\">\n",
       "      <th></th>\n",
       "      <th>Raw Excerpt Count</th>\n",
       "    </tr>\n",
       "  </thead>\n",
       "  <tbody>\n",
       "    <tr>\n",
       "      <th>Negative</th>\n",
       "      <td>1</td>\n",
       "    </tr>\n",
       "    <tr>\n",
       "      <th>Neutral</th>\n",
       "      <td>0</td>\n",
       "    </tr>\n",
       "    <tr>\n",
       "      <th>Positive</th>\n",
       "      <td>2</td>\n",
       "    </tr>\n",
       "  </tbody>\n",
       "</table>\n",
       "</div>"
      ],
      "text/plain": [
       "          Raw Excerpt Count\n",
       "Negative                  1\n",
       "Neutral                   0\n",
       "Positive                  2"
      ]
     },
     "execution_count": 39,
     "metadata": {},
     "output_type": "execute_result"
    }
   ],
   "source": [
    "res1 = sum(1 for i in reviews.afinn if i == \"Positive\")\n",
    "res2 = sum(1 for i in reviews.afinn if i == \"Neutral\")\n",
    "res3 = sum(1 for i in reviews.afinn if i == \"Negative\")\n",
    "\n",
    "d = {'Negative': res3, 'Neutral': res2, 'Positive': res1}\n",
    "df = pd.DataFrame.from_dict(d,orient=\"index\",columns=['Raw Excerpt Count'])\n",
    "df"
   ]
  },
  {
   "cell_type": "code",
   "execution_count": 40,
   "metadata": {},
   "outputs": [
    {
     "data": {
      "text/html": [
       "<div>\n",
       "<style scoped>\n",
       "    .dataframe tbody tr th:only-of-type {\n",
       "        vertical-align: middle;\n",
       "    }\n",
       "\n",
       "    .dataframe tbody tr th {\n",
       "        vertical-align: top;\n",
       "    }\n",
       "\n",
       "    .dataframe thead th {\n",
       "        text-align: right;\n",
       "    }\n",
       "</style>\n",
       "<table border=\"1\" class=\"dataframe\">\n",
       "  <thead>\n",
       "    <tr style=\"text-align: right;\">\n",
       "      <th></th>\n",
       "      <th>Processed Excerpt Count</th>\n",
       "    </tr>\n",
       "  </thead>\n",
       "  <tbody>\n",
       "    <tr>\n",
       "      <th>Negative</th>\n",
       "      <td>1</td>\n",
       "    </tr>\n",
       "    <tr>\n",
       "      <th>Neutral</th>\n",
       "      <td>0</td>\n",
       "    </tr>\n",
       "    <tr>\n",
       "      <th>Positive</th>\n",
       "      <td>2</td>\n",
       "    </tr>\n",
       "  </tbody>\n",
       "</table>\n",
       "</div>"
      ],
      "text/plain": [
       "          Processed Excerpt Count\n",
       "Negative                        1\n",
       "Neutral                         0\n",
       "Positive                        2"
      ]
     },
     "execution_count": 40,
     "metadata": {},
     "output_type": "execute_result"
    }
   ],
   "source": [
    "res1 = sum(1 for i in reviews.afinn if i == \"Positive\")\n",
    "res2 = sum(1 for i in reviews.afinn if i == \"Neutral\")\n",
    "res3 = sum(1 for i in reviews.afinn if i == \"Negative\")\n",
    "\n",
    "d = {'Negative': res3, 'Neutral': res2, 'Positive': res1}\n",
    "df = pd.DataFrame.from_dict(d,orient=\"index\",columns=['Processed Excerpt Count'])\n",
    "df"
   ]
  },
  {
   "cell_type": "markdown",
   "metadata": {},
   "source": [
    " ## Describe what preprocessing (stop words, stemming, custom replacement, etc.) you performed to make the data more useful."
   ]
  },
  {
   "cell_type": "markdown",
   "metadata": {},
   "source": [
    "For this assignment I removed common stopwords to analyze which words would be used most often. If there would have been variants of the same word I would have used lemmetization to combine but this was not the case with the text used. The words coming up most often were the artists names. I then used custom replacement using dictionaries to replace the artist names so they would not be included in analysis. This can be done because the names do not have sentiment to them and it could remove bias if anybody analyzing the data had preformed opinions about an artist."
   ]
  },
  {
   "cell_type": "markdown",
   "metadata": {},
   "source": [
    "This did work in combining the artist names into one term and because this term then showed up many times it was treated like a stopword and removed. How ever the album and song names were changed so this may be able to be attributed to the artists."
   ]
  },
  {
   "cell_type": "markdown",
   "metadata": {},
   "source": [
    "## Write a short description of how the sentiment analysis was done and what the outcome is."
   ]
  },
  {
   "cell_type": "markdown",
   "metadata": {},
   "source": [
    "I decided to use the Afinn dictionary taught in class for sentiment analysis on this assigment. I chose this because I was concerned about my computers processing power and this takes less and less time to return results. This dictionary also has an easy to understand collection of words with weighted positive and negative sentiment.\n",
    "\n",
    "Each analysis yielded the same result on the original and processed text. Two reviews were positive and one review was negative. One issue is that on the review that yielded a negative result the review was actually not negative. The content of the song being reviewed had a slightly sad tone to it however the review was positive about the song. \n",
    "\n",
    "To improve the accuracy of this sentiment analysis the code would need to be edited to be able to detect lyrics. The lyrics of the song with the negative review are included in quotations in the review and these lyrics may have swayed the sentiment even though it is not part of the actual review. Just the author providing examples for their analysis of the artist song."
   ]
  }
 ],
 "metadata": {
  "kernelspec": {
   "display_name": "Python 3",
   "language": "python",
   "name": "python3"
  },
  "language_info": {
   "codemirror_mode": {
    "name": "ipython",
    "version": 3
   },
   "file_extension": ".py",
   "mimetype": "text/x-python",
   "name": "python",
   "nbconvert_exporter": "python",
   "pygments_lexer": "ipython3",
   "version": "3.7.6"
  }
 },
 "nbformat": 4,
 "nbformat_minor": 4
}
